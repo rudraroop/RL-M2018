{
  "nbformat": 4,
  "nbformat_minor": 0,
  "metadata": {
    "colab": {
      "name": "RL_HW1_Q1.ipynb",
      "version": "0.3.2",
      "provenance": [],
      "collapsed_sections": [],
      "toc_visible": true
    },
    "kernelspec": {
      "name": "python3",
      "display_name": "Python 3"
    }
  },
  "cells": [
    {
      "cell_type": "markdown",
      "metadata": {
        "id": "CbsDNCOUCqFD",
        "colab_type": "text"
      },
      "source": [
        "#Non-Stationary Problem tracking"
      ]
    },
    {
      "cell_type": "code",
      "metadata": {
        "id": "wTcTiRUvC8xT",
        "colab_type": "code",
        "colab": {}
      },
      "source": [
        "import numpy as np\n",
        "from random import randrange\n",
        "import matplotlib.pyplot as plt"
      ],
      "execution_count": 0,
      "outputs": []
    },
    {
      "cell_type": "markdown",
      "metadata": {
        "id": "7u2TerG6QOFl",
        "colab_type": "text"
      },
      "source": [
        "First we want to see if our comparitive analysis works as expected in a singular, 10000 timestep run. Later we will average our results for 2000 such runs and plot the same. We wish to compare the performance of two approaches commonly used for tracking a stationary bandit problem on a nonstationary problem - a modified version of the 10 armed testbed. The Sample mean method gives equal precedence to all rewards no matter how long ago the information was received whereas the constant step size alpha gives higher precedence to recently received rewards which makes it more likely to fare well in the non stationary case"
      ]
    },
    {
      "cell_type": "code",
      "metadata": {
        "id": "RYaPatnilobZ",
        "colab_type": "code",
        "colab": {}
      },
      "source": [
        "def GenWalks():\n",
        "  A=np.random.normal(0,0.01,10)\n",
        "  return A"
      ],
      "execution_count": 0,
      "outputs": []
    },
    {
      "cell_type": "markdown",
      "metadata": {
        "id": "PIoXg_GSo6QG",
        "colab_type": "text"
      },
      "source": [
        "The GenWalks function will be used to update the **true** values associated with the 10 arms at the end of each of the 10000 timesteps "
      ]
    },
    {
      "cell_type": "code",
      "metadata": {
        "id": "folS8e3CpsIJ",
        "colab_type": "code",
        "colab": {}
      },
      "source": [
        "def GenReward(arm, trueVals):\n",
        "  A=np.zeros(10)\n",
        "  for i in range(10):\n",
        "    A[i]=np.random.normal(trueVals[i], 1)\n",
        "  return A"
      ],
      "execution_count": 0,
      "outputs": []
    },
    {
      "cell_type": "markdown",
      "metadata": {
        "id": "V0veGoiVqiuO",
        "colab_type": "text"
      },
      "source": [
        "The GenReward takes as arguments the arm selected along with the array of true values associated with the arms and returns a reward randomly from a normal(true value of arm, 1) distribution"
      ]
    },
    {
      "cell_type": "code",
      "metadata": {
        "id": "r2SCUEPfrBkF",
        "colab_type": "code",
        "colab": {}
      },
      "source": [
        "def ArmPull(Estimates):\n",
        "  s=randrange(10)\n",
        "  if(s==1):\n",
        "    return randrange(10)\n",
        "  else:\n",
        "    i=0\n",
        "    for k in range(10):\n",
        "      if(Estimates[k]>Estimates[i]):\n",
        "        i=k\n",
        "    return i"
      ],
      "execution_count": 0,
      "outputs": []
    },
    {
      "cell_type": "markdown",
      "metadata": {
        "id": "EdkPZgj-rP46",
        "colab_type": "text"
      },
      "source": [
        "The ArmPull function takes in an array of estimated values for the 10 arms and returns the index of the arm we should pull based on an epsilon greedy approach. Epsilon being 0.1."
      ]
    },
    {
      "cell_type": "code",
      "metadata": {
        "id": "YnsSJd6_r2F-",
        "colab_type": "code",
        "colab": {}
      },
      "source": [
        "def UpdateSampleMean(Rt, Qtminus1, n):\n",
        "  Qt=Qtminus1 + ((Rt-Qtminus1)/n)\n",
        "  return Qt"
      ],
      "execution_count": 0,
      "outputs": []
    },
    {
      "cell_type": "markdown",
      "metadata": {
        "id": "61NYlEvisnoe",
        "colab_type": "text"
      },
      "source": [
        "Given current reward, old value estimate and number of times the arm has been selected, the UpdateSampleMean function returns the updated sample mean estimate for the value of the arm."
      ]
    },
    {
      "cell_type": "code",
      "metadata": {
        "id": "usNIWYYxtD-N",
        "colab_type": "code",
        "colab": {}
      },
      "source": [
        "def UpdateConstAlpha(Rt, Qtminus1):\n",
        "  alpha=0.1\n",
        "  Qt=Qtminus1 + ((Rt-Qtminus1)*alpha)\n",
        "  return Qt"
      ],
      "execution_count": 0,
      "outputs": []
    },
    {
      "cell_type": "markdown",
      "metadata": {
        "id": "5fLg_OCutMCq",
        "colab_type": "text"
      },
      "source": [
        "Given current reward and old value estimate, the UpdateConstAlpha function returns the updated constant step size alpha estimate for the value of the arm. Alpha is set to 0.1"
      ]
    },
    {
      "cell_type": "code",
      "metadata": {
        "id": "kgPzc-azt7Vc",
        "colab_type": "code",
        "colab": {}
      },
      "source": [
        "arr0=np.zeros(10)  #true values\n",
        "arr1=np.zeros(10)  #estimates using sample mean\n",
        "arr11=np.zeros(10) #number of times each action has been picked - for sample mean estimation\n",
        "arr2=np.zeros(10)  #estimates using constant step size alpha\n",
        "maxval=0 #Maximum true value out of all the arms' true values"
      ],
      "execution_count": 0,
      "outputs": []
    },
    {
      "cell_type": "markdown",
      "metadata": {
        "id": "aCuVbWrouaAV",
        "colab_type": "text"
      },
      "source": [
        "The above arrays store value and estimate related information"
      ]
    },
    {
      "cell_type": "code",
      "metadata": {
        "id": "dsP7e4hQugM2",
        "colab_type": "code",
        "colab": {}
      },
      "source": [
        "Reward_SampleMean = np.zeros(10000) #reward received by sample mean method at every timestep\n",
        "Reward_ConstAlpha = np.zeros(10000) #reward received by constant step size method at every timestep\n",
        "#part of both old and new"
      ],
      "execution_count": 0,
      "outputs": []
    },
    {
      "cell_type": "markdown",
      "metadata": {
        "id": "JWfbR0FBx3Of",
        "colab_type": "text"
      },
      "source": [
        "Storage of reward at each stage will help us calculate the Average reward accumulated at each stage"
      ]
    },
    {
      "cell_type": "code",
      "metadata": {
        "id": "pRDw5BNPyA2Q",
        "colab_type": "code",
        "colab": {}
      },
      "source": [
        "AvgRewards_SampleMean = np.zeros(10000) #avg reward to be calculated using Reward_SampleMean array\n",
        "AvgRewards_ConstAlpha = np.zeros(10000) #same except using Reward_ConstAlpha"
      ],
      "execution_count": 0,
      "outputs": []
    },
    {
      "cell_type": "markdown",
      "metadata": {
        "id": "j902pVjnyrk1",
        "colab_type": "text"
      },
      "source": [
        "Next we would like to document the percentage/average percentage of being able to pick the optimal action for both methods"
      ]
    },
    {
      "cell_type": "code",
      "metadata": {
        "id": "BEcEMNKIzQZW",
        "colab_type": "code",
        "colab": {}
      },
      "source": [
        "BinOptimal_SM = np.zeros(10000) #Whether or not the action picked at each timestep by Sample Mean method was the optimal action\n",
        "BinOptimal_CA = np.zeros(10000) #the same except for constant step size alpha method\n",
        "\n",
        "PercentAvg_SM = np.zeros(10000)\n",
        "PercentAvg_CA = np.zeros(10000) #translate the numbers to percentages and plot"
      ],
      "execution_count": 0,
      "outputs": []
    },
    {
      "cell_type": "markdown",
      "metadata": {
        "id": "HrwBuSXnFo7T",
        "colab_type": "text"
      },
      "source": [
        "Now that all our storage elements and methods are ready to be used, we can start coding our singular run"
      ]
    },
    {
      "cell_type": "code",
      "metadata": {
        "id": "fSuiIc5ZF4G_",
        "colab_type": "code",
        "colab": {}
      },
      "source": [
        "for i in range(10000):\n",
        "  \n",
        "  SampleMeanArm = ArmPull(arr1)\n",
        "  arr11[SampleMeanArm]+=1\n",
        "  ConstAlphaArm = ArmPull(arr2)\n",
        "  #We now have the epsilon-greedy chosen arm and we must see if the optimal arm has been chosen\n",
        "  \n",
        "  if(arr0[SampleMeanArm]==np.amax(arr0)):\n",
        "    BinOptimal_SM[i]=1.0\n",
        "  if(arr0[ConstAlphaArm]==np.amax(arr0)):\n",
        "    BinOptimal_CA[i]=1.0\n",
        "  #Once the optimality arrays have been updated we want to reap the rewards associated with the chosen arms\n",
        "  \n",
        "  Rwd=GenReward(SampleMeanArm, arr0)\n",
        "  SampleMeanReward = Rwd[SampleMeanArm]\n",
        "  ConstAlphaReward = Rwd[ConstAlphaArm]\n",
        "  #We have now received our rewards and wish to update our estimation arrays for both methods\n",
        "  \n",
        "  arr1[SampleMeanArm]=UpdateSampleMean(SampleMeanReward, arr1[SampleMeanArm], arr11[SampleMeanArm])\n",
        "  #SampleMean estimate updated\n",
        "  arr2[ConstAlphaArm]=UpdateConstAlpha(ConstAlphaReward, arr2[ConstAlphaArm])\n",
        "  #ConstAlpha estimate updated\n",
        "  #Now that the estimation arrays have been updated we must also update the reward array for each method\n",
        "  \n",
        "  Reward_SampleMean[i]=SampleMeanReward\n",
        "  Reward_ConstAlpha[i]=ConstAlphaReward\n",
        "  #The reward matrices have also been updated and all that remains now is to set the true values on their random walks and iterate again\n",
        "  \n",
        "  arr0=arr0+GenWalks()"
      ],
      "execution_count": 0,
      "outputs": []
    },
    {
      "cell_type": "markdown",
      "metadata": {
        "id": "liYEkH_CW5r0",
        "colab_type": "text"
      },
      "source": [
        "Now that all of our iterations have been completed we wish to plot the performances of both enlisted methods"
      ]
    },
    {
      "cell_type": "code",
      "metadata": {
        "id": "74dD3QSHXPA1",
        "colab_type": "code",
        "outputId": "da76a34f-273e-4476-c508-233e2b00ee76",
        "colab": {
          "base_uri": "https://localhost:8080/",
          "height": 550
        }
      },
      "source": [
        "#Average Rewards using Sample Mean method\n",
        "AvgRewards_SampleMean[0]=Reward_SampleMean[0]\n",
        "for j in range(1,10000):\n",
        "  AvgRewards_SampleMean[j]=AvgRewards_SampleMean[j-1]+((Reward_SampleMean[j]-AvgRewards_SampleMean[j-1])/(j+1))\n",
        "plt.plot(AvgRewards_SampleMean)\n",
        "plt.ylabel('Avg Reward - Sample Mean')\n",
        "plt.xlabel('Time')\n",
        "plt.show()\n",
        "\n",
        "#Average Rewards using Constant Step Size alpha method\n",
        "AvgRewards_ConstAlpha[0]=Reward_ConstAlpha[0]\n",
        "for j in range(1,10000):\n",
        "  AvgRewards_ConstAlpha[j]=AvgRewards_ConstAlpha[j-1]+((Reward_ConstAlpha[j]-AvgRewards_ConstAlpha[j-1])/(j+1))\n",
        "plt.plot(AvgRewards_ConstAlpha)\n",
        "plt.ylabel('Avg Reward - Constant Alpha')\n",
        "plt.xlabel('Time')\n",
        "plt.show()"
      ],
      "execution_count": 15,
      "outputs": [
        {
          "output_type": "display_data",
          "data": {
            "image/png": "[encoded data removed]",
            "text/plain": [
              "<Figure size 432x288 with 1 Axes>"
            ]
          },
          "metadata": {
            "tags": []
          }
        },
        {
          "output_type": "display_data",
          "data": {
            "image/png": "[encoded data removed]",
            "text/plain": [
              "<Figure size 432x288 with 1 Axes>"
            ]
          },
          "metadata": {
            "tags": []
          }
        }
      ]
    },
    {
      "cell_type": "markdown",
      "metadata": {
        "id": "HxeSww8RaeCB",
        "colab_type": "text"
      },
      "source": [
        "As we can see, Constant step size method ends up with a better average reward as we would expect it to do"
      ]
    },
    {
      "cell_type": "code",
      "metadata": {
        "id": "TwM8HTA6amKZ",
        "colab_type": "code",
        "outputId": "61fae20d-5856-49ca-9571-fb4f03bf70dc",
        "colab": {
          "base_uri": "https://localhost:8080/",
          "height": 558
        }
      },
      "source": [
        "PercentAvg_SM[0]=1.0\n",
        "count=1.0\n",
        "for j in range(1,10000):\n",
        "  if(BinOptimal_SM[j]==1.0):\n",
        "    count+=1.0\n",
        "  PercentAvg_SM[j]=count/(j+1)\n",
        "plt.plot(PercentAvg_SM, 'r-')\n",
        "plt.ylabel('Average Optimality Ratio - Sample Mean')\n",
        "plt.xlabel('Time')\n",
        "plt.show()\n",
        "\n",
        "PercentAvg_CA[0]=1.0\n",
        "count=1.0\n",
        "for j in range(1,10000):\n",
        "  if(BinOptimal_CA[j]==1.0):\n",
        "    count+=1.0\n",
        "  PercentAvg_CA[j]=count/(j+1)\n",
        "plt.plot(PercentAvg_CA, 'r-')\n",
        "plt.ylabel('Average Optimality Ratio - Const. stepsize alpha')\n",
        "plt.xlabel('Time')\n",
        "plt.show()"
      ],
      "execution_count": 16,
      "outputs": [
        {
          "output_type": "display_data",
          "data": {
            "image/png": "[encoded data removed]",
            "text/plain": [
              "<Figure size 432x288 with 1 Axes>"
            ]
          },
          "metadata": {
            "tags": []
          }
        },
        {
          "output_type": "display_data",
          "data": {
            "image/png": "[encoded data removed]",
            "text/plain": [
              "<Figure size 432x288 with 1 Axes>"
            ]
          },
          "metadata": {
            "tags": []
          }
        }
      ]
    },
    {
      "cell_type": "markdown",
      "metadata": {
        "id": "UanODGSMfyeX",
        "colab_type": "text"
      },
      "source": [
        "Once again, the constant step size method performs better than the Sample Mean method as we would expect it to"
      ]
    },
    {
      "cell_type": "markdown",
      "metadata": {
        "id": "P8g5K3jcGRAL",
        "colab_type": "text"
      },
      "source": [
        "Now we average this over 1000 runs\n",
        "\n",
        "--------------------------"
      ]
    },
    {
      "cell_type": "markdown",
      "metadata": {
        "id": "ghVfa7EocGsb",
        "colab_type": "text"
      },
      "source": [
        "We want four arrays for averageing the results received over 1000 runs"
      ]
    },
    {
      "cell_type": "code",
      "metadata": {
        "id": "L1FPQf-vcVZA",
        "colab_type": "code",
        "colab": {}
      },
      "source": [
        "FinalRewards_ConstAlpha = np.zeros(10000)\n",
        "FinalRewards_SampleMean = np.zeros(10000)\n",
        "\n",
        "PercentFinal_SM= np.zeros(10000)\n",
        "PercentFinal_CA= np.zeros(10000)"
      ],
      "execution_count": 0,
      "outputs": []
    },
    {
      "cell_type": "markdown",
      "metadata": {
        "id": "XtlR_WY-djC4",
        "colab_type": "text"
      },
      "source": [
        "We now wish to run ALL the code above 1000 times and store the averaged results in these4 arrays "
      ]
    },
    {
      "cell_type": "code",
      "metadata": {
        "id": "KXLvrhageBLq",
        "colab_type": "code",
        "colab": {}
      },
      "source": [
        "for k in range(1000):\n",
        "  arr0=np.zeros(10)  #true values\n",
        "  arr1=np.zeros(10)  #estimates using sample mean\n",
        "  arr11=np.zeros(10) #number of times each action has been picked - for sample mean estimation\n",
        "  arr2=np.zeros(10)  #estimates using constant step size alpha\n",
        "  maxval=0 #Maximum true value out of all the arms' true values\n",
        "\n",
        "  Reward_SampleMean = np.zeros(10000) #reward received by sample mean method at every timestep\n",
        "  Reward_ConstAlpha = np.zeros(10000) #reward received by constant step size method at every timestep\n",
        "  #part of both old and new\n",
        "\n",
        "  AvgRewards_SampleMean = np.zeros(10000) #avg reward to be calculated using Reward_SampleMean array\n",
        "  AvgRewards_ConstAlpha = np.zeros(10000) #same except using Reward_ConstAlpha\n",
        "\n",
        "  BinOptimal_SM = np.zeros(10000) #Whether or not the action picked at each timestep by Sample Mean method was the optimal action\n",
        "  BinOptimal_CA = np.zeros(10000) #the same except for constant step size alpha method\n",
        "\n",
        "  PercentAvg_SM = np.zeros(10000)\n",
        "  PercentAvg_CA = np.zeros(10000) #translate the numbers to percentages and plot\n",
        "\n",
        "  for i in range(10000):\n",
        "\n",
        "    SampleMeanArm = ArmPull(arr1)\n",
        "    arr11[SampleMeanArm]+=1\n",
        "    ConstAlphaArm = ArmPull(arr2)\n",
        "    #We now have the epsilon-greedy chosen arm and we must see if the optimal arm has been chosen\n",
        "\n",
        "    if(arr0[SampleMeanArm]==np.amax(arr0)):\n",
        "      BinOptimal_SM[i]=1.0\n",
        "    if(arr0[ConstAlphaArm]==np.amax(arr0)):\n",
        "      BinOptimal_CA[i]=1.0\n",
        "    #Once the optimality arrays have been updated we want to reap the rewards associated with the chosen arms\n",
        "\n",
        "    Rwd=GenReward(SampleMeanArm, arr0)\n",
        "    SampleMeanReward = Rwd[SampleMeanArm]\n",
        "    ConstAlphaReward = Rwd[ConstAlphaArm]\n",
        "    #We have now received our rewards and wish to update our estimation arrays for both methods\n",
        "\n",
        "    arr1[SampleMeanArm]=UpdateSampleMean(SampleMeanReward, arr1[SampleMeanArm], arr11[SampleMeanArm])\n",
        "    #SampleMean estimate updated\n",
        "    arr2[ConstAlphaArm]=UpdateConstAlpha(ConstAlphaReward, arr2[ConstAlphaArm])\n",
        "    #ConstAlpha estimate updated\n",
        "    #Now that the estimation arrays have been updated we must also update the reward array for each method\n",
        "\n",
        "    Reward_SampleMean[i]=SampleMeanReward\n",
        "    Reward_ConstAlpha[i]=ConstAlphaReward\n",
        "    #The reward matrices have also been updated and all that remains now is to set the true values on their random walks and iterate again\n",
        "\n",
        "    arr0=arr0+GenWalks()\n",
        "  \n",
        "  #Average Rewards using Sample Mean method\n",
        "  AvgRewards_SampleMean[0]=Reward_SampleMean[0]\n",
        "  for j in range(1,10000):\n",
        "    AvgRewards_SampleMean[j]=AvgRewards_SampleMean[j-1]+((Reward_SampleMean[j]-AvgRewards_SampleMean[j-1])/(j+1))\n",
        "  for j in range(10000):\n",
        "    FinalRewards_SampleMean[j]=UpdateSampleMean(FinalRewards_SampleMean[j], AvgRewards_SampleMean[j], k+1) \n",
        "\n",
        "  #Average Rewards using Constant Step Size alpha method\n",
        "  AvgRewards_ConstAlpha[0]=Reward_ConstAlpha[0]\n",
        "  for j in range(1,10000):\n",
        "    AvgRewards_ConstAlpha[j]=AvgRewards_ConstAlpha[j-1]+((Reward_ConstAlpha[j]-AvgRewards_ConstAlpha[j-1])/(j+1))\n",
        "  for j in range(10000):\n",
        "    FinalRewards_ConstAlpha[j]=UpdateSampleMean(FinalRewards_ConstAlpha[j], AvgRewards_ConstAlpha[j], k+1) \n",
        "  \n",
        "  PercentAvg_SM[0]=1.0\n",
        "  count=1.0\n",
        "  for j in range(1,10000):\n",
        "    if(BinOptimal_SM[j]==1.0):\n",
        "      count+=1.0\n",
        "    PercentAvg_SM[j]=count/(j+1)\n",
        "  for j in range(10000):\n",
        "    PercentFinal_SM[j]=UpdateSampleMean(PercentFinal_SM[j], PercentAvg_SM[j], k+1) \n",
        "\n",
        "  PercentAvg_CA[0]=1.0\n",
        "  count=1.0\n",
        "  for j in range(1,10000):\n",
        "    if(BinOptimal_CA[j]==1.0):\n",
        "      count+=1.0\n",
        "    PercentAvg_CA[j]=count/(j+1)\n",
        "  for j in range(10000):\n",
        "    PercentFinal_CA[j]=UpdateSampleMean(PercentFinal_CA[j], PercentAvg_CA[j], k+1) \n"
      ],
      "execution_count": 0,
      "outputs": []
    },
    {
      "cell_type": "markdown",
      "metadata": {
        "id": "8KDiMlTViXHO",
        "colab_type": "text"
      },
      "source": [
        "We now plot the final comparison"
      ]
    },
    {
      "cell_type": "code",
      "metadata": {
        "id": "nqLLPCn-j-oE",
        "colab_type": "code",
        "outputId": "e1c72ffc-1525-4588-cf90-957cb4b0c9d7",
        "colab": {
          "base_uri": "https://localhost:8080/",
          "height": 283
        }
      },
      "source": [
        "plt.plot(FinalRewards_SampleMean)\n",
        "plt.plot(FinalRewards_ConstAlpha, 'r-')\n",
        "plt.ylabel('Avg Reward')\n",
        "plt.xlabel('Time')\n",
        "plt.show()"
      ],
      "execution_count": 19,
      "outputs": [
        {
          "output_type": "display_data",
          "data": {
            "image/png": "[encoded data removed]",
            "text/plain": [
              "<Figure size 432x288 with 1 Axes>"
            ]
          },
          "metadata": {
            "tags": []
          }
        }
      ]
    },
    {
      "cell_type": "code",
      "metadata": {
        "id": "FvJbzYlgiZzy",
        "colab_type": "code",
        "outputId": "843d50b5-637d-4c65-d54c-e9520c614e8e",
        "colab": {
          "base_uri": "https://localhost:8080/",
          "height": 283
        }
      },
      "source": [
        "plt.plot(PercentFinal_SM)\n",
        "plt.plot(PercentFinal_CA, 'r-')\n",
        "plt.ylabel('Average Optimality Ratio')\n",
        "plt.xlabel('Time')\n",
        "plt.show()"
      ],
      "execution_count": 20,
      "outputs": [
        {
          "output_type": "display_data",
          "data": {
            "image/png": "[encoded data removed]",
            "text/plain": [
              "<Figure size 432x288 with 1 Axes>"
            ]
          },
          "metadata": {
            "tags": []
          }
        }
      ]
    },
    {
      "cell_type": "markdown",
      "metadata": {
        "id": "XPfN28m9oZJL",
        "colab_type": "text"
      },
      "source": [
        "As we can see, the overall performance of the constant step size alpha method is better than that of the sample mean method. This is expected as Sample mean method gives higher precedence to very old rewards which is not a good way to go in a constantly changing system. However, neither performs significantly better than the other because neither method is fit to deal with non-stationary problems. Also in this particular case, the overall change in the true values is normally distributed around zero which means that the true values will circle around their initial value always and not end up going too far from it. This makes the performance of the sample mean method only a little worse than that of the constant step size method while it could have been significantly worse."
      ]
    }
  ]
}